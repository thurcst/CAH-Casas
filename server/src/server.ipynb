{
 "cells": [
  {
   "cell_type": "code",
   "execution_count": 1,
   "metadata": {},
   "outputs": [],
   "source": [
    "from sanic import Sanic\n",
    "import uuid\n",
    "\n",
    "import logging\n",
    "import json\n"
   ]
  },
  {
   "cell_type": "code",
   "execution_count": 2,
   "metadata": {},
   "outputs": [],
   "source": [
    "LOG_FORMAT = \"%(asctime)s [%(levelname)s]: %(threadName)s - %(message)s\"\n",
    "logging.basicConfig(format=LOG_FORMAT)\n",
    "logger = logging.getLogger(__name__)\n",
    "logger.setLevel(\"INFO\")"
   ]
  },
  {
   "cell_type": "markdown",
   "metadata": {},
   "source": [
    "[x] Cada jogador inicia com 10 cartas;\n",
    "\n",
    "[ ] ~~ Toda rodada é sorteado um jogador para receber três cartas pretas e escolher qual vai ser a carta da rodada;~~\n",
    "\n",
    "[ ] O vencedor da rodada escolherá a carta de pergunta da rodada seguinte\n",
    "\n",
    "[ ] ~~O jogo termina quando acabarem as cartas brancas;~~\n",
    "\n",
    "Algumas cartas têm 2 espaços pra resposta, já está mapeado no bd;\n",
    "\n",
    "Para cartas com 2 respostas, todos jogadores recebem +1 carta;\n",
    "\n",
    "Regra RANDO: Toda rodada o jogador dummy recebe uma carta, caso a dele seja votada mais engraçada, o jogo acaba e todos perdem;\n",
    "\n",
    "No fim da rodada, cada jogador vota em uma carta; A mais votada recebe um ponto; Ganha quem chegar no máximo de pontuação mais rápido;\n",
    "\n",
    "A pontuação é definida no início da partida, ao criar a sala;\n",
    "\n",
    "Modo sobrevivência: Após o fim das respostas, todos os jogadores votam em uma carta para ser apagada, a última restante ganha;\n",
    "\n",
    "É possível sacrificar 1 ponto para girar suas cartas em mãos;\n",
    "\n",
    "A cada rodada, o jogador pode puxar mais uma carta;\n",
    "\n",
    "Cartas brancas não repetem no deck;"
   ]
  },
  {
   "cell_type": "code",
   "execution_count": 208,
   "metadata": {},
   "outputs": [],
   "source": [
    "class Resposta:\n",
    "    def __init__(self, texto: str, autor: str = \"Cartas contra a humanidade\") -> None:\n",
    "        self.texto = texto\n",
    "        self.ingame = False\n",
    "        self.autor = autor\n",
    "        self.jogador = None\n",
    "        self.votos = 0\n",
    "        self.id = uuid.uuid4()\n",
    "\n",
    "    def marcar_ingame(self):\n",
    "        self.ingame = True\n",
    "\n",
    "    def to_json(self) -> str:\n",
    "        obj = {\"texto\": self.texto, \"autor\": self.autor, \"id\": self.id}\n",
    "\n",
    "        return json.dumps(obj)\n",
    "\n",
    "    def debug(self):\n",
    "        return f\"\"\"Texto: {self.texto}\\nIngame: {self.ingame}\\nVotos: {self.votos}\\nID: {self.id}\\nAutor: {self.autor}\\nJogador: {self.jogador}\"\"\"\n"
   ]
  },
  {
   "cell_type": "code",
   "execution_count": 210,
   "metadata": {},
   "outputs": [],
   "source": [
    "\n",
    "class Jogador:\n",
    "    def __init__(self, nome: str) -> None:\n",
    "        self.nome = nome\n",
    "        self.cartas = []\n",
    "        self.pontuacao = 0\n",
    "        self.status = \"aguardando\"  # possíveis status = aguardando, escolhendo, votando\n",
    "        self.id = uuid.uuid4()\n",
    "\n",
    "        logger.info(\"Jogador %s foi criado com o id %s.\", self.nome, self.id)\n",
    "\n",
    "    def descartar_resposta(self, resposta: Resposta):\n",
    "\n",
    "        logger.info(\n",
    "            \"Carta recebida foi de texto %s e ID %s\", resposta.texto, str(resposta.id)\n",
    "        )\n",
    "\n",
    "        self.cartas = [\n",
    "            carta for carta in self.cartas if str(str(carta.id)) != str(resposta.id)\n",
    "        ]\n",
    "\n",
    "        logger.info(\n",
    "            \"A carta de ID %s foi descartada do deck do jogador %s\",\n",
    "            str(resposta.id),\n",
    "            self.id,\n",
    "        )\n",
    "        logger.info(\"Agora o jogador %s possui %s cartas.\", self.nome, len(self.cartas))\n",
    "\n",
    "    def to_json(self) -> str:\n",
    "        response = {\n",
    "            \"nome\": self.nome,\n",
    "            \"id\": self.id,\n",
    "        }\n",
    "\n",
    "        return response\n",
    "\n",
    "    def debug(self) -> None:\n",
    "        print(str(self))\n",
    "\n",
    "    def __str__(self) -> str:\n",
    "        txt = f\"\"\"\\n\\tNome: {self.nome}\\n\\tCartas: {','.join([carta.texto for carta in self.cartas])}\\n\\tPontuação: {self.pontuacao}\\n\\tStatus: {self.status}\\n\\tID: {self.id}\"\"\"\n",
    "\n",
    "        return txt\n"
   ]
  },
  {
   "cell_type": "code",
   "execution_count": 211,
   "metadata": {},
   "outputs": [],
   "source": [
    "class Pergunta:\n",
    "    def __init__(self, texto: str, autor: str = \"default\") -> None:\n",
    "        self.texto = texto\n",
    "        self.ingame = False\n",
    "        self.picks = max(texto.count(\"_\"), 1)\n",
    "        self.autor = autor\n",
    "        self.id = uuid.uuid4()\n",
    "\n",
    "    def to_json(self) -> str:\n",
    "        obj = {\n",
    "            \"texto\": self.texto,\n",
    "            \"picks\": self.picks,\n",
    "            \"autor\": self.autor,\n",
    "            \"id\": str(self.id),\n",
    "        }\n",
    "\n",
    "        return json.dumps(obj)\n",
    "\n",
    "    def debug(self):\n",
    "        return f\"\"\"Texto: {self.texto}\\nIngame: {self.ingame}\\nPicks: {self.picks}\\nID: {self.id}\\nAutor: {self.autor}\"\"\"\n"
   ]
  },
  {
   "cell_type": "code",
   "execution_count": 147,
   "metadata": {},
   "outputs": [],
   "source": [
    "from random import choice\n",
    "class Deck:\n",
    "    \"\"\"### Responsabilidades do Deck\n",
    "\n",
    "    Ler as cartas da memória\n",
    "\n",
    "    Selecionar as cartas para serem escolhidas como pergunta\n",
    "\n",
    "    Distribuir as cartas para os jogadores\n",
    "\n",
    "    Marcar cartas como ingame (Perguntas e Respostas)\n",
    "\n",
    "    \"\"\"\n",
    "\n",
    "    def __init__(self) -> None:\n",
    "        self.perguntas = []\n",
    "        self.respostas = []\n",
    "\n",
    "        logger.info(\"Deck foi iniciado.\")\n",
    "        self.carregar_cartas()\n",
    "\n",
    "    def carregar_cartas(self):\n",
    "        \"\"\"Faz a leitura das cartas no banco de dados\"\"\"\n",
    "        with open(\n",
    "            \"/home/costa/Projetos/cards_against_the_humanity/server/src/objects/perguntas.txt\"\n",
    "        ) as f:\n",
    "            for pergunta in f.readlines():\n",
    "                self.perguntas.append(Pergunta(pergunta[:-2]))\n",
    "\n",
    "            logger.info(\"Foram carregadas %s perguntas\", len(self.perguntas))\n",
    "\n",
    "        with open(\n",
    "            \"/home/costa/Projetos/cards_against_the_humanity/server/src/objects/respostas.txt\"\n",
    "        ) as f:\n",
    "            for resposta in f.readlines():\n",
    "                self.respostas.append(Resposta(resposta[:-2]))\n",
    "            logger.info(\"Foram carregadas %s respostas\", len(self.respostas))\n",
    "\n",
    "    def pick_respostas(self, k: int = 10):\n",
    "        \"\"\"Seleciona 10 cartas arbitrárias entre as cartas que ainda não estão em jogo.\n",
    "        Automaticamente as marca como ingame.\n",
    "\n",
    "        Args:\n",
    "            k (int, optional): Quantidade de cartas a serem puxadas. Defaults to 10.\n",
    "\n",
    "        Raises:\n",
    "            Exception: Caso acabem as cartas disponíveis, levanta um erro\n",
    "\n",
    "        Returns:\n",
    "            list(Resposta): Lista com as 10 respostas já marcadas como ingame\n",
    "        \"\"\"\n",
    "        respostas_nao_usadas = [\n",
    "            resposta for resposta in self.respostas if resposta.ingame == False\n",
    "        ]\n",
    "        logger.info(f\"respostas restantes: {len(respostas_nao_usadas) - 10}\")\n",
    "\n",
    "        if len(respostas_nao_usadas) == 0:\n",
    "            raise Exception(\"Acabaram as cartas, porra\")\n",
    "\n",
    "        respostas = [choice(respostas_nao_usadas) for i in range(k)]\n",
    "\n",
    "        for resposta in respostas:\n",
    "            resposta.marcar_ingame()\n",
    "\n",
    "        if k == 1:\n",
    "            # Caso onde é a primeira carta a ser jogada\n",
    "            # não passa pelo processo de seleção dos jogadores\n",
    "            self.marcar_resposta_ingame(respostas[0].id)\n",
    "\n",
    "        return respostas\n",
    "\n",
    "    def pick_perguntas(self, k: int = 3) -> list[Pergunta]:\n",
    "        \"\"\"Escolhe aleatoriamente 3 perguntas da lista de perguntas ainda não escolhidas\n",
    "\n",
    "        Params:\n",
    "            k (int): Quantidade de perguntas a serem retornadas\n",
    "\n",
    "        Raises:\n",
    "            Exception: Erro caso não hajam mais cartas para serem escolhidas\n",
    "\n",
    "        Returns:\n",
    "            list[Pergunta]: Lista com as 3 perguntas para o jogador escolher.\n",
    "        \"\"\"\n",
    "        perguntas_nao_usadas = [\n",
    "            pergunta for pergunta in self.perguntas if pergunta.ingame == False\n",
    "        ]\n",
    "\n",
    "        logger.info(f\"Perguntas restantes: {len(perguntas_nao_usadas)}\")\n",
    "\n",
    "        if len(perguntas_nao_usadas) == 0:\n",
    "            raise Exception(\"Acabaram as cartas, porra\")\n",
    "\n",
    "        perguntas = [choice(perguntas_nao_usadas) for i in range(k)]\n",
    "\n",
    "        if k == 1:\n",
    "            # Caso onde é a primeira carta a ser jogada\n",
    "            # não passa pelo processo de seleção dos jogadores\n",
    "            self.marcar_pergunta_ingame(perguntas[0].id)\n",
    "\n",
    "        return perguntas\n",
    "\n",
    "    def marcar_pergunta_ingame(self, id):\n",
    "        \"\"\"Recebe um ID de pergunta e marca ela como já utilizada em jogo\n",
    "\n",
    "        Args:\n",
    "            id (str): identificador da carta a ser marcada\n",
    "\n",
    "        Raises:\n",
    "            Exception: Exception de not found\n",
    "        \"\"\"\n",
    "        pergunta = [pergunta for pergunta in self.perguntas if pergunta.id == id].pop()\n",
    "        if not pergunta:\n",
    "            raise Exception(\"Pergunta não existe na lista de perguntas\")\n",
    "        pergunta.ingame = True\n",
    "\n",
    "        logger.info(\"%s\", pergunta.debug())\n"
   ]
  },
  {
   "cell_type": "markdown",
   "metadata": {},
   "source": [
    "# Passo a passo da partida\n",
    "\n",
    "[x] Criar a partida com os parâmetros de jogo\n",
    "\n",
    "[x] Esperar todos os jogadores entrarem\n",
    "\n",
    "[x] Iniciar o jogo (apenas o dono)\n",
    "\n",
    "[x] Distribuir as cartas para cada jogador\n",
    "\n",
    "[x] Selecionar a carga de pergunta da rodada (apenas a primeira rodada)\n",
    "\n",
    "[ ] Cada jogador recebe sua carta\n",
    "\n",
    "[ ] Cada jogador pode puxar uma carta nova 1x por rodada\n",
    "\n",
    "[ ] Votação\n",
    "\n",
    "[ ] Vencedor escolhe a carta pergunta das próximas rodadas\n",
    "\n",
    "[ ] Repete o jogo em ciclo até a pontuação máxima chegar ou o máximo de rodadas"
   ]
  },
  {
   "cell_type": "code",
   "execution_count": 212,
   "metadata": {},
   "outputs": [],
   "source": [
    "class Mesa:\n",
    "\n",
    "    def __init__(self, deck: Deck) -> None:\n",
    "        self.votos = 0\n",
    "        self.deck = deck\n",
    "\n",
    "        self.pergunta_da_rodada = None\n",
    "        self.respostas_da_rodada = []\n",
    "        logger.info(\"Mesa foi iniciada.\")\n",
    "\n",
    "    def reiniciar(self):\n",
    "        self.pergunta_da_rodada = []\n",
    "        self.respostas_da_rodada = []\n",
    "\n",
    "    def adicionar_resposta(self, resposta: Resposta):\n",
    "        logger.info(\n",
    "            \"A resposta '%s' foi adicionada à mesa e marcada como usada ingame\",\n",
    "            resposta.texto,\n",
    "        )\n",
    "        self.respostas_da_rodada.append(resposta)\n",
    "\n",
    "    def computar_voto(self, id_resposta):\n",
    "        obj = [\n",
    "            resposta\n",
    "            for resposta in self.respostas_da_rodada\n",
    "            if str(resposta.id) == id_resposta\n",
    "        ]\n",
    "\n",
    "        if len(obj) > 0:\n",
    "            obj[0].votos += 1\n",
    "            self.votos += 1\n",
    "        else:\n",
    "            raise Exception(\"Carta não encontrada\")\n",
    "\n",
    "        logger.info(\"A respost '%s' agora possui %s votos.\", obj[0].texto, obj[0].votos)\n",
    "\n",
    "    def finalizar_rodada(self) -> list[Resposta]:\n",
    "        def __return_votos(resposta: Resposta):\n",
    "            return resposta.votos\n",
    "\n",
    "        votados = sorted(self.respostas_da_rodada, key=__return_votos)\n",
    "        return votados\n",
    "\n",
    "    def debug(self):\n",
    "        return f\"Pergunta da rodada: \\n\\tTexto: {self.pergunta_da_rodada.texto}\\n\\tPicks: {self.pergunta_da_rodada.picks}\\nRespostas em jogo: {[resposta.texto for resposta in self.respostas_da_rodada]}\"\n"
   ]
  },
  {
   "cell_type": "code",
   "execution_count": 197,
   "metadata": {},
   "outputs": [],
   "source": [
    "class Partida:\n",
    "    \"\"\"\n",
    "    Entidade da partida\n",
    "    \"\"\"\n",
    "    def __init__(\n",
    "        self,\n",
    "        jogador: Jogador,\n",
    "        max_pontuacao: int = 10,\n",
    "        temporizador_votacao: int = 30,\n",
    "        temporizador_selecao: int = 30,\n",
    "        max_rodadas: int = 15,\n",
    "    ) -> None:\n",
    "\n",
    "        # Valores devault\n",
    "        self.temporizador_votacao = temporizador_votacao\n",
    "        self.temporizador_selecao = temporizador_selecao\n",
    "        self.max_pontuacao = max_pontuacao\n",
    "        self.max_rodadas = max_rodadas\n",
    "        self.dono = jogador\n",
    "\n",
    "        self.jogadores = [self.dono]\n",
    "        self.rodada_atual = 0\n",
    "        self.deck = Deck()\n",
    "        self.mesa = Mesa(deck=self.deck)\n",
    "        self.id = uuid.uuid4()\n",
    "        self.started = False\n",
    "\n",
    "        logger.info('A entidade da Partida foi criada com o ID %s', self.id)\n",
    "\n",
    "    def __str__(self) -> str:\n",
    "        debug_text = f\"\"\"ID: {self.id}\\nStarted: {self.started}\\nTemporizador de seleção: {self.temporizador_selecao}\\nTemporizador de votação: {self.temporizador_votacao}\\nPontuação máxima: {self.max_pontuacao}\\nMáximo de rodadas: {self.max_rodadas}\\nJogadores: {len(self.jogadores)}\\nDono da sala: {str(self.dono)}\\n\"\"\"\n",
    "        return debug_text\n",
    "\n",
    "    def iniciar_jogo(self, id: str) -> str:\n",
    "        try:\n",
    "            if id == str(self.dono.id):\n",
    "                self.started = True\n",
    "\n",
    "                for jogador in self.jogadores:\n",
    "                    jogador.cartas.extend(self.deck.pick_respostas())\n",
    "                    \n",
    "                    for carta in jogador.cartas:\n",
    "                        carta.jogador = str(jogador.id)\n",
    "\n",
    "                payload = self.iniciar_rodada()\n",
    "\n",
    "                return 'OK'\n",
    "            else:\n",
    "                return 'NOT STARTED'\n",
    "            \n",
    "        except Exception as e:\n",
    "            logger.exception(e)\n",
    "\n",
    "    def iniciar_rodada(self, id: str = None):\n",
    "        if id == None:\n",
    "            pergunta = self.gerar_primeira_pergunta()\n",
    "            payload = pergunta.to_json()\n",
    "        \n",
    "        else:\n",
    "            perguntas = self.deck.pick_perguntas(3)\n",
    "            payload = [pergunta.to_json() for pergunta in perguntas]\n",
    "\n",
    "        return payload\n",
    "\n",
    "    def gerar_primeira_pergunta(self) -> None:\n",
    "        pergunta_inicial = self.deck.pick_perguntas(1)\n",
    "        self.mesa.pergunta_da_rodada = pergunta_inicial[0]\n",
    "\n",
    "        return pergunta_inicial[0]\n",
    "\n",
    "    def gerar_perguntas(self):\n",
    "        perguntas = self.deck.pick_perguntas()\n",
    "        return perguntas\n",
    "\n",
    "    def iniciar_vocatacao(self):\n",
    "        raise NotImplementedError\n",
    "    \n",
    "    def finalizar_votacao(self):\n",
    "\n",
    "        ranking = self.mesa.finalizar_rodada()\n",
    "        vencedor = ranking[0].jogador\n",
    "\n",
    "        for jogador in self.jogadores:\n",
    "            if str(jogador.id) == vencedor:\n",
    "                jogador.pontuacao += 1\n",
    "                logger.info(\"O jogador de id '%s' foi o vencedor da rodada e agora possui %s pontos.\", vencedor, jogador.pontuacao)\n",
    "\n",
    "    def contabilizar_voto(self, id_resposta):\n",
    "        try:\n",
    "            self.mesa.computar_voto(id_resposta)\n",
    "        except Exception as e:\n",
    "            logger.info(e)\n",
    "\n",
    "        if self.mesa.votos == len(self.jogadores):\n",
    "            self.finalizar_votacao()\n",
    "\n",
    "    def selecionar_pergunta(self, payload: dict):\n",
    "\n",
    "        jogador = self.get_jogador(payload['jogador'])\n",
    "        \n",
    "        print(f'jogador: {jogador.nome}')\n",
    "\n",
    "        if len(payload['resposta']) > int(self.mesa.pergunta_da_rodada.picks):\n",
    "            logger.info(\"O jogador %s enviou mais respostas do que o necessário.\", jogador.nome)\n",
    "            raise Exception(\"Mais respostas do que deveria.\")\n",
    "\n",
    "        ja_jogaram = [str(resposta.jogador) for resposta in self.mesa.respostas_da_rodada]\n",
    "\n",
    "        if jogador.nome in ja_jogaram:\n",
    "            raise Exception(\"Jogador já fez sua seleção.\")\n",
    "        \n",
    "        else:\n",
    "            # logger.info(\"Jogadores que já responderam a rodada: %s\", ja_jogaram)\n",
    "\n",
    "            for resposta in payload['resposta']:\n",
    "                resposta = self.get_resposta(resposta)\n",
    "\n",
    "                try:\n",
    "                    self.mesa.adicionar_resposta(resposta)\n",
    "                    jogador.descartar_resposta(resposta)\n",
    "                except Exception as e:\n",
    "                    logger.exception(e)\n",
    "                    raise Exception(e)\n",
    "\n",
    "    def entrar_na_sala(self, novo_jogador: Jogador) -> uuid.UUID:\n",
    "        try:\n",
    "            if novo_jogador.id not in [jogador.id for jogador in self.jogadores]:\n",
    "                self.jogadores.append(novo_jogador)\n",
    "            else:\n",
    "                raise Exception('Jogador de mesmo ID já está no lobby')\n",
    "            \n",
    "            logger.info(\"O jogador %s entrou na sala com o ID %s\", novo_jogador.nome, novo_jogador.id)\n",
    "            return self.id\n",
    "        except Exception as e:\n",
    "            logger.exception(e)\n",
    "        \n",
    "    def get_resposta(self, id_resposta: str):\n",
    "        resposta = [resposta for resposta in self.deck.respostas if str(resposta.id) == id_resposta]\n",
    "        if len(resposta) > 0:\n",
    "            return resposta[0]\n",
    "\n",
    "    def get_jogador(self, id_jogador: str):\n",
    "        jogador = [jogador for jogador in self.jogadores if str(jogador.id) == id_jogador]\n",
    "        \n",
    "        if len(jogador) > 0:\n",
    "            return jogador[0]\n",
    "\n",
    "    def debug_jogadores(self) -> None:\n",
    "        for jogador in self.jogadores:\n",
    "            print(str(jogador))\n",
    "\n",
    "    def debug(self) -> None:\n",
    "        print(str(self))\n"
   ]
  },
  {
   "cell_type": "code",
   "execution_count": 198,
   "metadata": {},
   "outputs": [
    {
     "name": "stderr",
     "output_type": "stream",
     "text": [
      "2024-04-28 23:37:49,595 [INFO]: MainThread - Jogador isaac foi criado com o id dcf74ead-ea71-4683-a257-0a8a518e85cb.\n",
      "2024-04-28 23:37:49,596 [INFO]: MainThread - Jogador vitu foi criado com o id 1dce7492-9b8a-4591-a444-884b9665dfb5.\n"
     ]
    }
   ],
   "source": [
    "dummy = Jogador('isaac')\n",
    "dummy_2 = Jogador('vitu')"
   ]
  },
  {
   "cell_type": "code",
   "execution_count": 199,
   "metadata": {},
   "outputs": [
    {
     "name": "stderr",
     "output_type": "stream",
     "text": [
      "2024-04-28 23:37:49,742 [INFO]: MainThread - Deck foi iniciado.\n",
      "2024-04-28 23:37:49,743 [INFO]: MainThread - Foram carregadas 95 perguntas\n",
      "2024-04-28 23:37:49,746 [INFO]: MainThread - Foram carregadas 403 respostas\n",
      "2024-04-28 23:37:49,746 [INFO]: MainThread - Mesa foi iniciada.\n",
      "2024-04-28 23:37:49,746 [INFO]: MainThread - A entidade da Partida foi criada com o ID 43241c0e-5f89-4ddf-afa0-8d618405ca64\n",
      "2024-04-28 23:37:49,747 [INFO]: MainThread - O jogador vitu entrou na sala com o ID 1dce7492-9b8a-4591-a444-884b9665dfb5\n"
     ]
    },
    {
     "data": {
      "text/plain": [
       "UUID('43241c0e-5f89-4ddf-afa0-8d618405ca64')"
      ]
     },
     "execution_count": 199,
     "metadata": {},
     "output_type": "execute_result"
    }
   ],
   "source": [
    "game = Partida(dummy, 10, 30, 15)\n",
    "\n",
    "game.entrar_na_sala(dummy_2)"
   ]
  },
  {
   "cell_type": "code",
   "execution_count": 200,
   "metadata": {},
   "outputs": [
    {
     "name": "stderr",
     "output_type": "stream",
     "text": [
      "2024-04-28 23:37:49,897 [INFO]: MainThread - respostas restantes: 393\n",
      "2024-04-28 23:37:49,898 [INFO]: MainThread - respostas restantes: 383\n",
      "2024-04-28 23:37:49,899 [INFO]: MainThread - Perguntas restantes: 95\n",
      "2024-04-28 23:37:49,899 [INFO]: MainThread - Texto: A excursão da escola foi um fiasco porque _.\n",
      "Ingame: True\n",
      "Picks: 1\n",
      "ID: de506f13-beca-44a3-acdb-1eed49f06dd3\n",
      "Autor: default\n"
     ]
    },
    {
     "data": {
      "text/plain": [
       "'OK'"
      ]
     },
     "execution_count": 200,
     "metadata": {},
     "output_type": "execute_result"
    }
   ],
   "source": [
    "game.iniciar_jogo(str(dummy.id))"
   ]
  },
  {
   "cell_type": "code",
   "execution_count": 201,
   "metadata": {},
   "outputs": [
    {
     "name": "stdout",
     "output_type": "stream",
     "text": [
      "\n",
      "\tNome: isaac\n",
      "\tCartas: Atendente de Telemarketing,Complexo de Édipo,Fazer um cafuné,Coceira no toba,Jogador de LOL (League of Legends),Barney (How I Met Your Mother),Pôneis malditos,Sem-vergonhice,A fome,Comer todos os doces que seriam doados no Cosme e Damião\n",
      "\tPontuação: 0\n",
      "\tStatus: aguardando\n",
      "\tID: dcf74ead-ea71-4683-a257-0a8a518e85cb\n",
      "\n",
      "\tNome: vitu\n",
      "\tCartas: Os nazistas,O Projeto Tamar,Obesidade,A Paz Mundial,Passar o rodo,Gravidez na adolescência,Freud explica,Sofrimento e desespero,Ejaculação precoce,Humor negro\n",
      "\tPontuação: 0\n",
      "\tStatus: aguardando\n",
      "\tID: 1dce7492-9b8a-4591-a444-884b9665dfb5\n"
     ]
    }
   ],
   "source": [
    "game.debug_jogadores()"
   ]
  },
  {
   "cell_type": "code",
   "execution_count": 202,
   "metadata": {},
   "outputs": [],
   "source": [
    "# Simulação de carta jogada\n",
    "\n",
    "payload = {\n",
    "  'jogador': str(dummy_2.id),\n",
    "  'resposta': [str(dummy_2.cartas[0].id)]\n",
    "}"
   ]
  },
  {
   "cell_type": "code",
   "execution_count": 203,
   "metadata": {},
   "outputs": [
    {
     "name": "stderr",
     "output_type": "stream",
     "text": [
      "2024-04-28 23:37:50,286 [INFO]: MainThread - A resposta 'Os nazistas' foi adicionada à mesa e marcada como usada ingame\n",
      "2024-04-28 23:37:50,287 [INFO]: MainThread - Carta recebida foi de texto Os nazistas e ID bc68b0d1-6e53-4697-a6ed-5b7c22b1d3f1\n",
      "2024-04-28 23:37:50,288 [INFO]: MainThread - A carta de ID bc68b0d1-6e53-4697-a6ed-5b7c22b1d3f1 foi descartada do deck do jogador 1dce7492-9b8a-4591-a444-884b9665dfb5\n",
      "2024-04-28 23:37:50,288 [INFO]: MainThread - Agora o jogador vitu possui 9 cartas.\n"
     ]
    },
    {
     "name": "stdout",
     "output_type": "stream",
     "text": [
      "jogador: vitu\n",
      "[UUID('eb1bf57d-044c-4ca0-b056-34e0bb63e69f'),\n",
      " UUID('a3046c42-d5ff-430d-a2f7-67906f209348'),\n",
      " UUID('2ca560d4-9410-4e7d-b2c0-d0e079e7f171'),\n",
      " UUID('6ac036a1-3f49-482e-b96e-d66328e2f668'),\n",
      " UUID('0e65ca68-4705-4c07-9811-da4b3848b191'),\n",
      " UUID('7f067776-b326-4357-aff6-06a2a72ef5a9'),\n",
      " UUID('83d30d27-bb2b-4e16-885d-9df0231ecfb5'),\n",
      " UUID('cee2c44c-9748-4aa0-8a33-8eb46ae5b23b'),\n",
      " UUID('7acb9a8b-40c2-4d7c-8e99-018715ac9367')]\n"
     ]
    }
   ],
   "source": [
    "game.selecionar_pergunta(payload=payload)"
   ]
  },
  {
   "cell_type": "code",
   "execution_count": 204,
   "metadata": {},
   "outputs": [
    {
     "name": "stdout",
     "output_type": "stream",
     "text": [
      "\n",
      "\tNome: isaac\n",
      "\tCartas: Atendente de Telemarketing,Complexo de Édipo,Fazer um cafuné,Coceira no toba,Jogador de LOL (League of Legends),Barney (How I Met Your Mother),Pôneis malditos,Sem-vergonhice,A fome,Comer todos os doces que seriam doados no Cosme e Damião\n",
      "\tPontuação: 0\n",
      "\tStatus: aguardando\n",
      "\tID: dcf74ead-ea71-4683-a257-0a8a518e85cb\n",
      "\n",
      "\tNome: vitu\n",
      "\tCartas: O Projeto Tamar,Obesidade,A Paz Mundial,Passar o rodo,Gravidez na adolescência,Freud explica,Sofrimento e desespero,Ejaculação precoce,Humor negro\n",
      "\tPontuação: 0\n",
      "\tStatus: aguardando\n",
      "\tID: 1dce7492-9b8a-4591-a444-884b9665dfb5\n"
     ]
    }
   ],
   "source": [
    "game.debug_jogadores()"
   ]
  },
  {
   "cell_type": "code",
   "execution_count": 205,
   "metadata": {},
   "outputs": [
    {
     "name": "stdout",
     "output_type": "stream",
     "text": [
      "Pergunta da rodada: \n",
      "\tTexto: A excursão da escola foi um fiasco porque _.\n",
      "\tPicks: 1\n",
      "Respostas em jogo: ['Os nazistas']\n"
     ]
    }
   ],
   "source": [
    "print(game.mesa.debug())\n"
   ]
  },
  {
   "cell_type": "code",
   "execution_count": 206,
   "metadata": {},
   "outputs": [
    {
     "name": "stderr",
     "output_type": "stream",
     "text": [
      "2024-04-28 23:37:50,834 [INFO]: MainThread - A respost 'Os nazistas' agora possui 1 votos.\n"
     ]
    }
   ],
   "source": [
    "game.contabilizar_voto(str(game.mesa.respostas_da_rodada[0].id))"
   ]
  },
  {
   "cell_type": "code",
   "execution_count": 207,
   "metadata": {},
   "outputs": [
    {
     "name": "stderr",
     "output_type": "stream",
     "text": [
      "2024-04-28 23:37:51,160 [INFO]: MainThread - O jogador de id '1dce7492-9b8a-4591-a444-884b9665dfb5' foi o vencedor da rodada e agora possui 1 pontos.\n"
     ]
    }
   ],
   "source": [
    "game.finalizar_votacao()"
   ]
  },
  {
   "cell_type": "code",
   "execution_count": null,
   "metadata": {},
   "outputs": [],
   "source": []
  }
 ],
 "metadata": {
  "kernelspec": {
   "display_name": "base",
   "language": "python",
   "name": "python3"
  },
  "language_info": {
   "codemirror_mode": {
    "name": "ipython",
    "version": 3
   },
   "file_extension": ".py",
   "mimetype": "text/x-python",
   "name": "python",
   "nbconvert_exporter": "python",
   "pygments_lexer": "ipython3",
   "version": "3.11.7"
  }
 },
 "nbformat": 4,
 "nbformat_minor": 2
}
