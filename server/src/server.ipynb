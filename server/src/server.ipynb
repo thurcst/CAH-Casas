{
 "cells": [
  {
   "cell_type": "code",
   "execution_count": 1,
   "metadata": {},
   "outputs": [],
   "source": [
    "from sanic import Sanic\n",
    "import uuid\n",
    "\n",
    "import logging\n",
    "import json\n"
   ]
  },
  {
   "cell_type": "code",
   "execution_count": 2,
   "metadata": {},
   "outputs": [],
   "source": [
    "LOG_FORMAT = \"%(asctime)s [%(levelname)s]: %(threadName)s - %(message)s\"\n",
    "logging.basicConfig(format=LOG_FORMAT)\n",
    "logger = logging.getLogger(__name__)\n",
    "logger.setLevel(\"INFO\")"
   ]
  },
  {
   "cell_type": "markdown",
   "metadata": {},
   "source": [
    "[x] Cada jogador inicia com 10 cartas;\n",
    "\n",
    "[ ] ~~ Toda rodada é sorteado um jogador para receber três cartas pretas e escolher qual vai ser a carta da rodada;~~\n",
    "\n",
    "[ ] O vencedor da rodada escolherá a carta de pergunta da rodada seguinte\n",
    "\n",
    "[ ] ~~O jogo termina quando acabarem as cartas brancas;~~\n",
    "\n",
    "Algumas cartas têm 2 espaços pra resposta, já está mapeado no bd;\n",
    "\n",
    "Para cartas com 2 respostas, todos jogadores recebem +1 carta;\n",
    "\n",
    "Regra RANDO: Toda rodada o jogador dummy recebe uma carta, caso a dele seja votada mais engraçada, o jogo acaba e todos perdem;\n",
    "\n",
    "No fim da rodada, cada jogador vota em uma carta; A mais votada recebe um ponto; Ganha quem chegar no máximo de pontuação mais rápido;\n",
    "\n",
    "A pontuação é definida no início da partida, ao criar a sala;\n",
    "\n",
    "Modo sobrevivência: Após o fim das respostas, todos os jogadores votam em uma carta para ser apagada, a última restante ganha;\n",
    "\n",
    "É possível sacrificar 1 ponto para girar suas cartas em mãos;\n",
    "\n",
    "A cada rodada, o jogador pode puxar mais uma carta;\n",
    "\n",
    "Cartas brancas não repetem no deck;"
   ]
  },
  {
   "cell_type": "code",
   "execution_count": 4,
   "metadata": {},
   "outputs": [],
   "source": [
    "class Resposta():\n",
    "  def __init__(self, texto: str, autor:str = 'Cartas contra a humanidade') -> None:\n",
    "    self.texto = texto\n",
    "    self.ingame = False\n",
    "    self.autor = autor\n",
    "    self.jogador = None\n",
    "    self.votos = 0\n",
    "    self.id = uuid.uuid4()\n",
    "  \n",
    "  def marcar_ingame(self):\n",
    "    self.ingame = True\n",
    "\n",
    "  def to_json(self) -> str:\n",
    "    obj = {\n",
    "      'texto': self.texto,\n",
    "      'autor': self.autor,\n",
    "      'id': self.id\n",
    "    }\n",
    "\n",
    "    return json.dumps(obj)\n",
    "\n",
    "  def debug(self):\n",
    "    return f\"\"\"Texto: {self.texto}\\nIngame: {self.ingame}\\nVotos: {self.votos}\\nID: {self.id}\\nAutor: {self.autor}\\nJogador: {self.jogador}\"\"\""
   ]
  },
  {
   "cell_type": "code",
   "execution_count": 93,
   "metadata": {},
   "outputs": [],
   "source": [
    "class Jogador:\n",
    "  def __init__(self, nome: str) -> None:\n",
    "    self.nome = nome\n",
    "    self.cartas = []\n",
    "    self.pontuacao = 0\n",
    "    self.status = 'aguardando' # possíveis status = aguardando, escolhendo, votando\n",
    "    self.id = uuid.uuid4()\n",
    "\n",
    "    logger.info('Jogador %s foi criado com o id %s.', self.nome, self.id)\n",
    "\n",
    "  def descartar_resposta(self, resposta: Resposta):\n",
    "    self.cartas = [carta for carta in self.cartas if str(carta.id) != str(resposta.id)]\n",
    "    logger.info(\"A carta de ID %s foi descartada do deck do jogador %s\", str(resposta.id), self.id)\n",
    "\n",
    "  def to_json(self) -> str:\n",
    "    response = {\n",
    "      \"nome\": self.nome,\n",
    "      \"id\": self.id,\n",
    "    }\n",
    "\n",
    "    return response\n",
    "\n",
    "  def debug(self) -> None:\n",
    "    print(str(self))\n",
    "\n",
    "  def __str__(self) -> str:\n",
    "    txt = f\"\"\"\\n\\tNome: {self.nome}\\n\\tCartas: {','.join([carta.texto for carta in self.cartas])}\\n\\tPontuação: {self.pontuacao}\\n\\tStatus: {self.status}\\n\\tID: {self.id}\"\"\"\n",
    "\n",
    "    return txt\n",
    "    "
   ]
  },
  {
   "cell_type": "code",
   "execution_count": 94,
   "metadata": {},
   "outputs": [],
   "source": [
    "class Pergunta():\n",
    "  def __init__(self, texto: str, autor: str = 'default') -> None:\n",
    "    self.texto = texto\n",
    "    self.ingame = False\n",
    "    self.picks = max(texto.count('_'), 1)\n",
    "    self.autor = autor\n",
    "    self.id = uuid.uuid4()\n",
    "\n",
    "  def to_json(self) -> str:\n",
    "    obj = {\n",
    "      'texto': self.texto,\n",
    "      'picks': self.picks,\n",
    "      'autor': self.autor,\n",
    "      'id': self.id\n",
    "    }\n",
    "\n",
    "    return json.dumps(obj)\n",
    "\n",
    "  def debug(self):\n",
    "    return f\"\"\"Texto: {self.texto}\\nIngame: {self.ingame}\\nPicks: {self.picks}\\nID: {self.id}\\nAutor: {self.autor}\"\"\""
   ]
  },
  {
   "cell_type": "code",
   "execution_count": 95,
   "metadata": {},
   "outputs": [],
   "source": [
    "from random import choice\n",
    "\n",
    "class Deck:\n",
    "  \"\"\" ### Responsabilidades do Deck\n",
    "\n",
    "Ler as cartas da memória\n",
    "\n",
    "Selecionar as cartas para serem escolhidas como pergunta\n",
    "\n",
    "Distribuir as cartas para os jogadores\n",
    "\n",
    "Marcar cartas como ingame (Perguntas e Respostas)\n",
    "\n",
    "  \"\"\"\n",
    "  def __init__(self) -> None:\n",
    "    self.perguntas = []\n",
    "    self.respostas = []\n",
    "\n",
    "    logger.info('Deck foi iniciado.')\n",
    "    self.carregar_cartas()\n",
    "\n",
    "  def carregar_cartas(self):\n",
    "    \"\"\"Faz a leitura das cartas no banco de dados\n",
    "    \"\"\"\n",
    "    with open('/home/costa/Projetos/cards_against_the_humanity/server/src/objects/perguntas.txt') as f:\n",
    "      for pergunta in f.readlines():\n",
    "        self.perguntas.append(Pergunta(pergunta[:-2]))\n",
    "\n",
    "      logger.info('Foram carregadas %s perguntas', len(self.perguntas))  \n",
    "      \n",
    "    \n",
    "    with open('/home/costa/Projetos/cards_against_the_humanity/server/src/objects/respostas.txt') as f:\n",
    "      for resposta in f.readlines():\n",
    "        self.respostas.append(Resposta(resposta[:-2]))\n",
    "      logger.info('Foram carregadas %s respostas', len(self.respostas))  \n",
    "\n",
    "  def pick_respostas(self, k: int = 10):\n",
    "    \"\"\"Seleciona 10 cartas arbitrárias entre as cartas que ainda não estão em jogo.\n",
    "    Automaticamente as marca como ingame.\n",
    "\n",
    "    Args:\n",
    "        k (int, optional): Quantidade de cartas a serem puxadas. Defaults to 10.\n",
    "\n",
    "    Raises:\n",
    "        Exception: Caso acabem as cartas disponíveis, levanta um erro\n",
    "\n",
    "    Returns:\n",
    "        list(Resposta): Lista com as 10 respostas já marcadas como ingame\n",
    "    \"\"\"\n",
    "    respostas_nao_usadas = [resposta for resposta in self.respostas if resposta.ingame == False ]\n",
    "    logger.info(f\"respostas restantes: {len(respostas_nao_usadas) - 10}\")\n",
    "\n",
    "    if(len(respostas_nao_usadas) == 0):\n",
    "      raise Exception('Acabaram as cartas, porra')\n",
    "\n",
    "    respostas = [choice(respostas_nao_usadas) for i in range(k)]\n",
    "\n",
    "    for resposta in respostas:\n",
    "      resposta.marcar_ingame()\n",
    "\n",
    "    if k == 1:\n",
    "      # Caso onde é a primeira carta a ser jogada\n",
    "      # não passa pelo processo de seleção dos jogadores\n",
    "      self.marcar_resposta_ingame(respostas[0].id)\n",
    "\n",
    "    return respostas\n",
    "\n",
    "  def pick_perguntas(self, k: int = 3) -> list[Pergunta]:\n",
    "    \"\"\"Escolhe aleatoriamente 3 perguntas da lista de perguntas ainda não escolhidas\n",
    "\n",
    "    Params:\n",
    "        k (int): Quantidade de perguntas a serem retornadas\n",
    "\n",
    "    Raises:\n",
    "        Exception: Erro caso não hajam mais cartas para serem escolhidas\n",
    "\n",
    "    Returns:\n",
    "        list[Pergunta]: Lista com as 3 perguntas para o jogador escolher.\n",
    "    \"\"\"\n",
    "    perguntas_nao_usadas = [pergunta for pergunta in self.perguntas if pergunta.ingame == False ]\n",
    "\n",
    "    logger.info(f\"Perguntas restantes: {len(perguntas_nao_usadas)}\")\n",
    "\n",
    "    if(len(perguntas_nao_usadas) == 0):\n",
    "      raise Exception('Acabaram as cartas, porra')\n",
    "\n",
    "    perguntas = [choice(perguntas_nao_usadas) for i in range(k)]\n",
    "\n",
    "    if k == 1:\n",
    "      # Caso onde é a primeira carta a ser jogada\n",
    "      # não passa pelo processo de seleção dos jogadores\n",
    "      self.marcar_pergunta_ingame(perguntas[0].id)\n",
    "\n",
    "    return perguntas\n",
    "  \n",
    "  def marcar_pergunta_ingame(self, id):\n",
    "    \"\"\"Recebe um ID de pergunta e marca ela como já utilizada em jogo\n",
    "\n",
    "    Args:\n",
    "        id (str): identificador da carta a ser marcada\n",
    "\n",
    "    Raises:\n",
    "        Exception: Exception de not found\n",
    "    \"\"\"\n",
    "    pergunta = [pergunta for pergunta in self.perguntas if pergunta.id == id].pop()\n",
    "    if not pergunta:\n",
    "      raise Exception('Pergunta não existe na lista de perguntas')\n",
    "    pergunta.ingame = True\n",
    "    \n",
    "    logger.info(\"%s\", pergunta.debug())"
   ]
  },
  {
   "cell_type": "markdown",
   "metadata": {},
   "source": [
    "# Passo a passo da partida\n",
    "\n",
    "[x] Criar a partida com os parâmetros de jogo\n",
    "\n",
    "[x] Esperar todos os jogadores entrarem\n",
    "\n",
    "[x] Iniciar o jogo (apenas o dono)\n",
    "\n",
    "[x] Distribuir as cartas para cada jogador\n",
    "\n",
    "[x] Selecionar a carga de pergunta da rodada (apenas a primeira rodada)\n",
    "\n",
    "[ ] Cada jogador recebe sua carta\n",
    "\n",
    "[ ] Cada jogador pode puxar uma carta nova 1x por rodada\n",
    "\n",
    "[ ] Votação\n",
    "\n",
    "[ ] Vencedor escolhe a carta pergunta das próximas rodadas\n",
    "\n",
    "[ ] Repete o jogo em ciclo até a pontuação máxima chegar ou o máximo de rodadas"
   ]
  },
  {
   "cell_type": "code",
   "execution_count": 139,
   "metadata": {},
   "outputs": [],
   "source": [
    "class Mesa:\n",
    "\n",
    "  def __init__(self, deck: Deck) -> None:\n",
    "    self.deck = deck\n",
    "    \n",
    "    self.pergunta_da_rodada = None\n",
    "    self.respostas_da_rodada = []\n",
    "    logger.info('Mesa foi iniciada.')\n",
    "\n",
    "  def reiniciar(self):\n",
    "    self.pergunta_da_rodada = []\n",
    "    self.respostas_da_rodada = []\n",
    "\n",
    "  def adicionar_resposta(self, resposta: Resposta):\n",
    "    logger.info(\"A resposta '%s' foi adicionada à mesa e marcada como usada ingame\", resposta.texto)\n",
    "    self.respostas_da_rodada.append(resposta)\n",
    "\n",
    "  def debug(self):\n",
    "    return f\"Pergunta da rodada: \\n\\tTexto: {self.pergunta_da_rodada.texto}\\n\\tPicks: {self.pergunta_da_rodada.picks}\\nRespostas em jogo: {[resposta.texto for resposta in self.respostas_da_rodada]}\"\n"
   ]
  },
  {
   "cell_type": "code",
   "execution_count": 202,
   "metadata": {},
   "outputs": [],
   "source": [
    "class Partida:\n",
    "    \"\"\"\n",
    "    Entidade da partida\n",
    "    \"\"\"\n",
    "    def __init__(\n",
    "        self,\n",
    "        jogador: Jogador,\n",
    "        max_pontuacao: int = 10,\n",
    "        temporizador_votacao: int = 30,\n",
    "        temporizador_selecao: int = 30,\n",
    "        max_rodadas: int = 15,\n",
    "    ) -> None:\n",
    "\n",
    "        # Valores devault\n",
    "        self.temporizador_votacao = temporizador_votacao\n",
    "        self.temporizador_selecao = temporizador_selecao\n",
    "        self.max_pontuacao = max_pontuacao\n",
    "        self.max_rodadas = max_rodadas\n",
    "        self.dono = jogador\n",
    "\n",
    "        self.jogadores = [self.dono]\n",
    "        self.rodada_atual = 0\n",
    "        self.deck = Deck()\n",
    "        self.mesa = Mesa(deck=self.deck)\n",
    "        self.id = uuid.uuid4()\n",
    "        self.started = False\n",
    "\n",
    "        logger.info('A entidade da Partida foi criada com o ID %s', self.id)\n",
    "\n",
    "    def __str__(self) -> str:\n",
    "        debug_text = f\"\"\"ID: {self.id}\\nStarted: {self.started}\\nTemporizador de seleção: {self.temporizador_selecao}\\nTemporizador de votação: {self.temporizador_votacao}\\nPontuação máxima: {self.max_pontuacao}\\nMáximo de rodadas: {self.max_rodadas}\\nJogadores: {len(self.jogadores)}\\nDono da sala: {str(self.dono)}\\n\"\"\"\n",
    "        return debug_text\n",
    "\n",
    "    def iniciar_jogo(self, id: str) -> str:\n",
    "        try:\n",
    "            if id == str(self.dono.id):\n",
    "                self.started = True\n",
    "                self.gerar_primeira_pergunta()\n",
    "\n",
    "                for jogador in self.jogadores:\n",
    "                    jogador.cartas.extend(self.deck.pick_respostas())\n",
    "                    \n",
    "                    for carta in jogador.cartas:\n",
    "                        carta.jogador = jogador.nome\n",
    "\n",
    "                return 'OK'\n",
    "            else:\n",
    "                return 'NOT STARTED'\n",
    "            \n",
    "        except Exception as e:\n",
    "            logger.exception(e)\n",
    "\n",
    "    \n",
    "    def gerar_primeira_pergunta(self) -> None:\n",
    "        pergunta_inicial = self.deck.pick_perguntas(1)\n",
    "        self.mesa.pergunta_da_rodada = pergunta_inicial[0]\n",
    "\n",
    "    def gerar_perguntas(self):\n",
    "        perguntas = self.deck.pick_perguntas()\n",
    "        return perguntas\n",
    "\n",
    "    def selecionar_pergunta(self, payload: dict):\n",
    "\n",
    "        jogador = self.get_jogador(payload['jogador'])\n",
    "        \n",
    "        if len(payload['resposta']) > int(self.mesa.pergunta_da_rodada.picks):\n",
    "            logger.info(\"O jogador %s enviou mais respostas do que o necessário.\", jogador.nome)\n",
    "            raise Exception(\"Mais respostas do que deveria.\")\n",
    "\n",
    "        respostas_da_rodada = [str(resposta.jogador) for resposta in self.mesa.respostas_da_rodada]\n",
    "\n",
    "        if jogador.nome in respostas_da_rodada:\n",
    "            raise Exception(\"Jogador já fez sua seleção.\")\n",
    "\n",
    "        logger.info(\"Jogadores que já responderam a rodada: %s\", respostas_da_rodada)\n",
    "\n",
    "        for resposta in payload['resposta']:\n",
    "            resposta = self.get_resposta(resposta)\n",
    "\n",
    "            try:\n",
    "                self.mesa.adicionar_resposta(resposta)\n",
    "                jogador.descartar_resposta(resposta)\n",
    "            except Exception as e:\n",
    "                logger.exception(e)\n",
    "                raise Exception(e)\n",
    "\n",
    "    def entrar_na_sala(self, novo_jogador: Jogador) -> uuid.UUID:\n",
    "        try:\n",
    "            if novo_jogador.id not in [jogador.id for jogador in self.jogadores]:\n",
    "                self.jogadores.append(novo_jogador)\n",
    "            else:\n",
    "                raise Exception('Jogador de mesmo ID já está no lobby')\n",
    "            \n",
    "            logger.info(\"O jogador %s entrou na sala com o ID %s\", novo_jogador.nome, novo_jogador.id)\n",
    "            return self.id\n",
    "        except Exception as e:\n",
    "            logger.exception(e)\n",
    "        \n",
    "\n",
    "    def get_resposta(self, id_resposta: str):\n",
    "        resposta = [resposta for resposta in self.deck.respostas if str(resposta.id) == id_resposta]\n",
    "        if len(resposta) > 0:\n",
    "            return resposta[0]\n",
    "\n",
    "    def get_jogador(self, id_jogador: str):\n",
    "        jogador = [jogador for jogador in self.jogadores if str(jogador.id) == id_jogador]\n",
    "        \n",
    "        if len(jogador) > 0:\n",
    "            return jogador[0]\n",
    "\n",
    "\n",
    "    def debug_jogadores(self) -> None:\n",
    "        for jogador in self.jogadores:\n",
    "            print(str(jogador))\n",
    "\n",
    "    def debug(self) -> None:\n",
    "        print(str(self))\n"
   ]
  },
  {
   "cell_type": "code",
   "execution_count": 203,
   "metadata": {},
   "outputs": [
    {
     "name": "stderr",
     "output_type": "stream",
     "text": [
      "2024-04-28 04:07:38,213 [INFO]: MainThread - Jogador isaac foi criado com o id b1f23005-47ee-4287-bb3b-7547180b27cb.\n",
      "2024-04-28 04:07:38,214 [INFO]: MainThread - Jogador vitu foi criado com o id 9dcfa90a-886b-4afd-8b20-b373447d563f.\n",
      "2024-04-28 04:07:38,214 [INFO]: MainThread - Deck foi iniciado.\n",
      "2024-04-28 04:07:38,214 [INFO]: MainThread - Foram carregadas 95 perguntas\n",
      "2024-04-28 04:07:38,215 [INFO]: MainThread - Foram carregadas 403 respostas\n",
      "2024-04-28 04:07:38,216 [INFO]: MainThread - Mesa foi iniciada.\n",
      "2024-04-28 04:07:38,216 [INFO]: MainThread - A entidade da Partida foi criada com o ID 368da1cc-bca6-4ff0-b265-11239d9f2d66\n",
      "2024-04-28 04:07:38,216 [INFO]: MainThread - O jogador vitu entrou na sala com o ID 9dcfa90a-886b-4afd-8b20-b373447d563f\n"
     ]
    },
    {
     "data": {
      "text/plain": [
       "UUID('368da1cc-bca6-4ff0-b265-11239d9f2d66')"
      ]
     },
     "execution_count": 203,
     "metadata": {},
     "output_type": "execute_result"
    }
   ],
   "source": [
    "dummy = Jogador('isaac')\n",
    "dummy_2 = Jogador('vitu')\n",
    "\n",
    "game = Partida(dummy, 10, 30, 15)\n",
    "game.entrar_na_sala(dummy_2)"
   ]
  },
  {
   "cell_type": "code",
   "execution_count": 204,
   "metadata": {},
   "outputs": [
    {
     "name": "stderr",
     "output_type": "stream",
     "text": [
      "2024-04-28 04:07:38,487 [INFO]: MainThread - Perguntas restantes: 95\n",
      "2024-04-28 04:07:38,487 [INFO]: MainThread - Texto: Eu bebo para esquecer _.\n",
      "Ingame: True\n",
      "Picks: 1\n",
      "ID: d229ac5a-d243-4377-823d-334a5e7b2e89\n",
      "Autor: default\n",
      "2024-04-28 04:07:38,487 [INFO]: MainThread - respostas restantes: 393\n",
      "2024-04-28 04:07:38,488 [INFO]: MainThread - respostas restantes: 383\n"
     ]
    },
    {
     "data": {
      "text/plain": [
       "'OK'"
      ]
     },
     "execution_count": 204,
     "metadata": {},
     "output_type": "execute_result"
    }
   ],
   "source": [
    "game.iniciar_jogo(str(dummy.id))"
   ]
  },
  {
   "cell_type": "code",
   "execution_count": 205,
   "metadata": {},
   "outputs": [
    {
     "name": "stdout",
     "output_type": "stream",
     "text": [
      "\n",
      "\tNome: isaac\n",
      "\tCartas: Ciências,Um filhote de crocodilo mordendo a cabeça do seu pênis,A placenta,Assistir Cartoon Network pelado(a),Pedófilos,Cagar para o Terceiro Mundo,A fome,Coceira no toba,Limpeza étnica,Mendigos\n",
      "\tPontuação: 0\n",
      "\tStatus: aguardando\n",
      "\tID: b1f23005-47ee-4287-bb3b-7547180b27cb\n",
      "\n",
      "\tNome: vitu\n",
      "\tCartas: Ejaculação precoce,Fazer uma lobotomia,Nem mole, nem duro,Uma diarreia brutal,Uma mulata amputada,Minha vida sexual,Apertar um baseado,Gente pobre,Uma bactéria carnívora,Os dinossauros\n",
      "\tPontuação: 0\n",
      "\tStatus: aguardando\n",
      "\tID: 9dcfa90a-886b-4afd-8b20-b373447d563f\n"
     ]
    }
   ],
   "source": [
    "game.debug_jogadores()"
   ]
  },
  {
   "cell_type": "code",
   "execution_count": 206,
   "metadata": {},
   "outputs": [
    {
     "name": "stdout",
     "output_type": "stream",
     "text": [
      "Jogador: Isaac\n",
      "ID: b1f23005-47ee-4287-bb3b-7547180b27cb\n",
      "758ffecb-8794-48e4-9d5f-d7416dc08671\n",
      "4e7d38e2-7e3b-4d6d-9ec3-b1f47e0b79c5\n",
      "b146f30c-a562-49b4-8416-3946d65cc65b\n",
      "753b2856-745f-40dd-8cbe-360ad1b7f2e3\n",
      "ea1a5635-0c97-4740-8eec-cf7d2c6977e6\n",
      "0fbf98cd-9642-4435-bdf3-219a4e0222f8\n",
      "3e1d75b0-e071-4832-8948-5776aa4d7a09\n",
      "2d88de09-cf59-4bed-a0b7-a485f6b713c6\n",
      "7e569f14-0e94-4a81-bae2-3f2d5599afb6\n",
      "d9dc9674-a426-4478-9d8a-26860c8c153c\n",
      "Jogador: Vitu\n",
      "ID: 9dcfa90a-886b-4afd-8b20-b373447d563f\n",
      "ac4166b1-41c5-4bb4-9032-cf5db5892b01\n",
      "69d261b4-3e69-496c-9394-fb0d6210d1e5\n",
      "6cd11264-51d1-4c11-b886-3d50426c7cff\n",
      "293198de-0346-4e1d-8460-d514ee1eb36f\n",
      "2e80f99c-f507-42db-9baf-7903b89454c6\n",
      "eab5c2ae-08b2-4c4b-9e50-2cdf3cba1cb4\n",
      "2602d484-d18e-4010-ab20-ddd35da874e5\n",
      "d64a8d71-822c-4c19-ab06-59df75c89eee\n",
      "8bd2a7d7-6dd1-4237-87e0-9a09bbccf628\n",
      "7cf0733f-74aa-4f0f-9c52-daf5a3fa06d1\n"
     ]
    }
   ],
   "source": [
    "for jogador in game.jogadores:\n",
    "  print('Jogador: {}\\nID: {}'.format( jogador.nome.capitalize(), jogador.id))\n",
    "  \n",
    "  for carta in jogador.cartas:\n",
    "    print(carta.id)"
   ]
  },
  {
   "cell_type": "code",
   "execution_count": 207,
   "metadata": {},
   "outputs": [],
   "source": [
    "# Simulação de carta jogada\n",
    "\n",
    "payload = {\n",
    "  'jogador': str(dummy.id),\n",
    "  'resposta': [str(dummy.cartas[0].id)]\n",
    "}"
   ]
  },
  {
   "cell_type": "code",
   "execution_count": 210,
   "metadata": {},
   "outputs": [
    {
     "ename": "Exception",
     "evalue": "Jogador já fez sua seleção.",
     "output_type": "error",
     "traceback": [
      "\u001b[0;31m---------------------------------------------------------------------------\u001b[0m",
      "\u001b[0;31mException\u001b[0m                                 Traceback (most recent call last)",
      "Cell \u001b[0;32mIn[210], line 1\u001b[0m\n\u001b[0;32m----> 1\u001b[0m game\u001b[38;5;241m.\u001b[39mselecionar_pergunta(payload\u001b[38;5;241m=\u001b[39mpayload)\n",
      "Cell \u001b[0;32mIn[202], line 73\u001b[0m, in \u001b[0;36mPartida.selecionar_pergunta\u001b[0;34m(self, payload)\u001b[0m\n\u001b[1;32m     70\u001b[0m respostas_da_rodada \u001b[38;5;241m=\u001b[39m [\u001b[38;5;28mstr\u001b[39m(resposta\u001b[38;5;241m.\u001b[39mjogador) \u001b[38;5;28;01mfor\u001b[39;00m resposta \u001b[38;5;129;01min\u001b[39;00m \u001b[38;5;28mself\u001b[39m\u001b[38;5;241m.\u001b[39mmesa\u001b[38;5;241m.\u001b[39mrespostas_da_rodada]\n\u001b[1;32m     72\u001b[0m \u001b[38;5;28;01mif\u001b[39;00m jogador\u001b[38;5;241m.\u001b[39mnome \u001b[38;5;129;01min\u001b[39;00m respostas_da_rodada:\n\u001b[0;32m---> 73\u001b[0m     \u001b[38;5;28;01mraise\u001b[39;00m \u001b[38;5;167;01mException\u001b[39;00m(\u001b[38;5;124m\"\u001b[39m\u001b[38;5;124mJogador já fez sua seleção.\u001b[39m\u001b[38;5;124m\"\u001b[39m)\n\u001b[1;32m     75\u001b[0m logger\u001b[38;5;241m.\u001b[39minfo(\u001b[38;5;124m\"\u001b[39m\u001b[38;5;124mJogadores que já responderam a rodada: \u001b[39m\u001b[38;5;132;01m%s\u001b[39;00m\u001b[38;5;124m\"\u001b[39m, respostas_da_rodada)\n\u001b[1;32m     77\u001b[0m \u001b[38;5;28;01mfor\u001b[39;00m resposta \u001b[38;5;129;01min\u001b[39;00m payload[\u001b[38;5;124m'\u001b[39m\u001b[38;5;124mresposta\u001b[39m\u001b[38;5;124m'\u001b[39m]:\n",
      "\u001b[0;31mException\u001b[0m: Jogador já fez sua seleção."
     ]
    }
   ],
   "source": [
    "game.selecionar_pergunta(payload=payload)"
   ]
  },
  {
   "cell_type": "code",
   "execution_count": 211,
   "metadata": {},
   "outputs": [
    {
     "name": "stdout",
     "output_type": "stream",
     "text": [
      "Pergunta da rodada: \n",
      "\tTexto: Eu bebo para esquecer _.\n",
      "\tPicks: 1\n",
      "Respostas em jogo: ['Ciências']\n"
     ]
    }
   ],
   "source": [
    "print(game.mesa.debug())"
   ]
  },
  {
   "cell_type": "code",
   "execution_count": 212,
   "metadata": {},
   "outputs": [
    {
     "data": {
      "text/plain": [
       "[<__main__.Jogador at 0x7f95a0409b90>]"
      ]
     },
     "execution_count": 212,
     "metadata": {},
     "output_type": "execute_result"
    }
   ],
   "source": [
    "[jogador for jogador in game.jogadores if str(jogador.id) == payload['jogador']]"
   ]
  },
  {
   "cell_type": "code",
   "execution_count": null,
   "metadata": {},
   "outputs": [],
   "source": []
  },
  {
   "cell_type": "code",
   "execution_count": null,
   "metadata": {},
   "outputs": [],
   "source": []
  },
  {
   "cell_type": "code",
   "execution_count": null,
   "metadata": {},
   "outputs": [],
   "source": []
  }
 ],
 "metadata": {
  "kernelspec": {
   "display_name": "base",
   "language": "python",
   "name": "python3"
  },
  "language_info": {
   "codemirror_mode": {
    "name": "ipython",
    "version": 3
   },
   "file_extension": ".py",
   "mimetype": "text/x-python",
   "name": "python",
   "nbconvert_exporter": "python",
   "pygments_lexer": "ipython3",
   "version": "3.11.7"
  }
 },
 "nbformat": 4,
 "nbformat_minor": 2
}
