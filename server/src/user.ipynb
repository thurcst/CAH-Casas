{
 "cells": [
  {
   "cell_type": "code",
   "execution_count": 8,
   "metadata": {},
   "outputs": [],
   "source": [
    "from websockets import client\n",
    "import asyncio\n",
    "import json\n",
    "from pprint import pprint\n",
    "\n",
    "import nest_asyncio"
   ]
  },
  {
   "cell_type": "code",
   "execution_count": 3,
   "metadata": {},
   "outputs": [],
   "source": [
    "nest_asyncio.apply()"
   ]
  },
  {
   "cell_type": "code",
   "execution_count": 6,
   "metadata": {},
   "outputs": [],
   "source": [
    "async with client.connect('ws://127.0.0.1:3000/game_test') as ws:\n",
    "  connect = {\n",
    "    'contexto': 'iniciar_conexao'\n",
    "  }\n",
    "  \n",
    "  await ws.send(json.dumps(connect))"
   ]
  },
  {
   "cell_type": "code",
   "execution_count": 7,
   "metadata": {},
   "outputs": [],
   "source": [
    "def request_user_input():\n",
    "    entrada = input(\"Escolha uma operação para ser feita: \")\n",
    "    if entrada == \"1\":\n",
    "        metadata = {\"contexto\": \"iniciar_conexao\"}\n",
    "    elif entrada == \"2\":\n",
    "        nome = input(\"Digita teu nome: \")\n",
    "        metadata = {\"contexto\": \"criar_jogador\", \"payload\": {\"nome\": nome}}\n",
    "    elif entrada == \"3\":\n",
    "        metadata = {\"contexto\": \"criar_partida\"}\n",
    "    elif entrada == \"4\":\n",
    "        id_sala = input(\"Digite o ID da sala: \")\n",
    "        metadata = {\"contexto\": \"entrar_na_sala\", \"payload\": {\"id_sala\": id_sala}}\n",
    "\n",
    "    return metadata"
   ]
  },
  {
   "cell_type": "code",
   "execution_count": 9,
   "metadata": {},
   "outputs": [
    {
     "name": "stdout",
     "output_type": "stream",
     "text": [
      "('{\"contexto\": \"informacoes_do_usuario\", \"jogador\": null, \"payload\": {\"id\": '\n",
      " '\"76b2452b-4f1b-45f8-8ab3-f83a23369348\"}}')\n",
      "'{\"contexto\": \"nome_atualizado\"}'\n",
      "('{\"id\": \"f82da734-3767-45f1-911d-e5759dd4f64b\", \"dono\": \"3\", \"jogadores\": '\n",
      " '[\"3\"], \"max_rodadas\": 15, \"max_pontuacao\": 10, \"temporizador_selecao\": 30, '\n",
      " '\"temporizador_votacao\": 30, \"iniciado\": false}')\n"
     ]
    },
    {
     "ename": "UnboundLocalError",
     "evalue": "cannot access local variable 'metadata' where it is not associated with a value",
     "output_type": "error",
     "traceback": [
      "\u001b[0;31m---------------------------------------------------------------------------\u001b[0m",
      "\u001b[0;31mUnboundLocalError\u001b[0m                         Traceback (most recent call last)",
      "Cell \u001b[0;32mIn[9], line 15\u001b[0m\n\u001b[1;32m     11\u001b[0m         \u001b[38;5;28;01mexcept\u001b[39;00m \u001b[38;5;167;01mKeyboardInterrupt\u001b[39;00m:\n\u001b[1;32m     12\u001b[0m             \u001b[38;5;28;01mawait\u001b[39;00m ws\u001b[38;5;241m.\u001b[39mclose()\n\u001b[0;32m---> 15\u001b[0m asyncio\u001b[38;5;241m.\u001b[39mget_event_loop()\u001b[38;5;241m.\u001b[39mrun_until_complete(conn())\n",
      "File \u001b[0;32m~/anaconda3/lib/python3.11/site-packages/nest_asyncio.py:98\u001b[0m, in \u001b[0;36m_patch_loop.<locals>.run_until_complete\u001b[0;34m(self, future)\u001b[0m\n\u001b[1;32m     95\u001b[0m \u001b[38;5;28;01mif\u001b[39;00m \u001b[38;5;129;01mnot\u001b[39;00m f\u001b[38;5;241m.\u001b[39mdone():\n\u001b[1;32m     96\u001b[0m     \u001b[38;5;28;01mraise\u001b[39;00m \u001b[38;5;167;01mRuntimeError\u001b[39;00m(\n\u001b[1;32m     97\u001b[0m         \u001b[38;5;124m'\u001b[39m\u001b[38;5;124mEvent loop stopped before Future completed.\u001b[39m\u001b[38;5;124m'\u001b[39m)\n\u001b[0;32m---> 98\u001b[0m \u001b[38;5;28;01mreturn\u001b[39;00m f\u001b[38;5;241m.\u001b[39mresult()\n",
      "File \u001b[0;32m~/anaconda3/lib/python3.11/asyncio/futures.py:203\u001b[0m, in \u001b[0;36mFuture.result\u001b[0;34m(self)\u001b[0m\n\u001b[1;32m    201\u001b[0m \u001b[38;5;28mself\u001b[39m\u001b[38;5;241m.\u001b[39m__log_traceback \u001b[38;5;241m=\u001b[39m \u001b[38;5;28;01mFalse\u001b[39;00m\n\u001b[1;32m    202\u001b[0m \u001b[38;5;28;01mif\u001b[39;00m \u001b[38;5;28mself\u001b[39m\u001b[38;5;241m.\u001b[39m_exception \u001b[38;5;129;01mis\u001b[39;00m \u001b[38;5;129;01mnot\u001b[39;00m \u001b[38;5;28;01mNone\u001b[39;00m:\n\u001b[0;32m--> 203\u001b[0m     \u001b[38;5;28;01mraise\u001b[39;00m \u001b[38;5;28mself\u001b[39m\u001b[38;5;241m.\u001b[39m_exception\u001b[38;5;241m.\u001b[39mwith_traceback(\u001b[38;5;28mself\u001b[39m\u001b[38;5;241m.\u001b[39m_exception_tb)\n\u001b[1;32m    204\u001b[0m \u001b[38;5;28;01mreturn\u001b[39;00m \u001b[38;5;28mself\u001b[39m\u001b[38;5;241m.\u001b[39m_result\n",
      "File \u001b[0;32m~/anaconda3/lib/python3.11/asyncio/tasks.py:277\u001b[0m, in \u001b[0;36mTask.__step\u001b[0;34m(***failed resolving arguments***)\u001b[0m\n\u001b[1;32m    273\u001b[0m \u001b[38;5;28;01mtry\u001b[39;00m:\n\u001b[1;32m    274\u001b[0m     \u001b[38;5;28;01mif\u001b[39;00m exc \u001b[38;5;129;01mis\u001b[39;00m \u001b[38;5;28;01mNone\u001b[39;00m:\n\u001b[1;32m    275\u001b[0m         \u001b[38;5;66;03m# We use the `send` method directly, because coroutines\u001b[39;00m\n\u001b[1;32m    276\u001b[0m         \u001b[38;5;66;03m# don't have `__iter__` and `__next__` methods.\u001b[39;00m\n\u001b[0;32m--> 277\u001b[0m         result \u001b[38;5;241m=\u001b[39m coro\u001b[38;5;241m.\u001b[39msend(\u001b[38;5;28;01mNone\u001b[39;00m)\n\u001b[1;32m    278\u001b[0m     \u001b[38;5;28;01melse\u001b[39;00m:\n\u001b[1;32m    279\u001b[0m         result \u001b[38;5;241m=\u001b[39m coro\u001b[38;5;241m.\u001b[39mthrow(exc)\n",
      "Cell \u001b[0;32mIn[9], line 5\u001b[0m, in \u001b[0;36mconn\u001b[0;34m()\u001b[0m\n\u001b[1;32m      3\u001b[0m \u001b[38;5;28;01mtry\u001b[39;00m:\n\u001b[1;32m      4\u001b[0m     \u001b[38;5;28;01mwhile\u001b[39;00m \u001b[38;5;28;01mTrue\u001b[39;00m:\n\u001b[0;32m----> 5\u001b[0m         entrada \u001b[38;5;241m=\u001b[39m request_user_input()\n\u001b[1;32m      7\u001b[0m         \u001b[38;5;28;01mawait\u001b[39;00m ws\u001b[38;5;241m.\u001b[39msend(json\u001b[38;5;241m.\u001b[39mdumps(entrada))\n\u001b[1;32m      9\u001b[0m         data \u001b[38;5;241m=\u001b[39m \u001b[38;5;28;01mawait\u001b[39;00m ws\u001b[38;5;241m.\u001b[39mrecv()\n",
      "Cell \u001b[0;32mIn[7], line 14\u001b[0m, in \u001b[0;36mrequest_user_input\u001b[0;34m()\u001b[0m\n\u001b[1;32m     11\u001b[0m     id_sala \u001b[38;5;241m=\u001b[39m \u001b[38;5;28minput\u001b[39m(\u001b[38;5;124m\"\u001b[39m\u001b[38;5;124mDigite o ID da sala: \u001b[39m\u001b[38;5;124m\"\u001b[39m)\n\u001b[1;32m     12\u001b[0m     metadata \u001b[38;5;241m=\u001b[39m {\u001b[38;5;124m\"\u001b[39m\u001b[38;5;124mcontexto\u001b[39m\u001b[38;5;124m\"\u001b[39m: \u001b[38;5;124m\"\u001b[39m\u001b[38;5;124mentrar_na_sala\u001b[39m\u001b[38;5;124m\"\u001b[39m, \u001b[38;5;124m\"\u001b[39m\u001b[38;5;124mpayload\u001b[39m\u001b[38;5;124m\"\u001b[39m: {\u001b[38;5;124m\"\u001b[39m\u001b[38;5;124mid_sala\u001b[39m\u001b[38;5;124m\"\u001b[39m: id_sala}}\n\u001b[0;32m---> 14\u001b[0m \u001b[38;5;28;01mreturn\u001b[39;00m metadata\n",
      "\u001b[0;31mUnboundLocalError\u001b[0m: cannot access local variable 'metadata' where it is not associated with a value"
     ]
    }
   ],
   "source": [
    "async def conn():\n",
    "    async with client.connect(\"ws://127.0.0.1:3000/game_test\") as ws:\n",
    "        try:\n",
    "            while True:\n",
    "                entrada = request_user_input()\n",
    "\n",
    "                await ws.send(json.dumps(entrada))\n",
    "\n",
    "                data = await ws.recv()\n",
    "                pprint(data)\n",
    "        except KeyboardInterrupt:\n",
    "            await ws.close()\n",
    "\n",
    "\n",
    "asyncio.get_event_loop().run_until_complete(conn())"
   ]
  },
  {
   "cell_type": "code",
   "execution_count": null,
   "metadata": {},
   "outputs": [],
   "source": []
  }
 ],
 "metadata": {
  "kernelspec": {
   "display_name": "base",
   "language": "python",
   "name": "python3"
  },
  "language_info": {
   "codemirror_mode": {
    "name": "ipython",
    "version": 3
   },
   "file_extension": ".py",
   "mimetype": "text/x-python",
   "name": "python",
   "nbconvert_exporter": "python",
   "pygments_lexer": "ipython3",
   "version": "3.11.7"
  }
 },
 "nbformat": 4,
 "nbformat_minor": 2
}
